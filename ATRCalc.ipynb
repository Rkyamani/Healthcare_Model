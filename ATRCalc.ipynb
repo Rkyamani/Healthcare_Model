{
  "nbformat": 4,
  "nbformat_minor": 0,
  "metadata": {
    "colab": {
      "provenance": []
    },
    "kernelspec": {
      "name": "python3",
      "display_name": "Python 3"
    },
    "language_info": {
      "name": "python"
    }
  },
  "cells": [
    {
      "cell_type": "code",
      "execution_count": 3,
      "metadata": {
        "colab": {
          "base_uri": "https://localhost:8080/"
        },
        "id": "lmQ_ODrixOYt",
        "outputId": "b25d385e-2138-4bf6-a0df-0c425bfbb354"
      },
      "outputs": [
        {
          "output_type": "stream",
          "name": "stderr",
          "text": [
            "\r[*********************100%***********************]  1 of 1 completed"
          ]
        },
        {
          "output_type": "stream",
          "name": "stdout",
          "text": [
            "ATR for CVS on 2024-03-06 is: 1.34\n"
          ]
        },
        {
          "output_type": "stream",
          "name": "stderr",
          "text": [
            "\n"
          ]
        }
      ],
      "source": [
        "import yfinance as yf\n",
        "import pandas as pd\n",
        "import numpy as np\n",
        "\n",
        "ticker = \"CVS\"\n",
        "start_date = \"2024-02-01\"\n",
        "end_date = \"2024-06-10\"\n",
        "\n",
        "# 1. Download historical data for a single ticker\n",
        "data = yf.download(ticker, start=start_date, end=end_date, group_by=\"ticker\")\n",
        "\n",
        "# 2. If columns are multi-index, flatten them\n",
        "if isinstance(data.columns, pd.MultiIndex):\n",
        "    data.columns = data.columns.droplevel(0)\n",
        "\n",
        "# 3. Calculate the Previous Close\n",
        "data[\"Previous_Close\"] = data[\"Close\"].shift(1)\n",
        "\n",
        "# 4. Calculate the True Range (TR) for each day\n",
        "data[\"TR\"] = data.apply(\n",
        "    lambda row: max(\n",
        "        row[\"High\"] - row[\"Low\"],\n",
        "        abs(row[\"High\"] - row[\"Previous_Close\"]),\n",
        "        abs(row[\"Low\"] - row[\"Previous_Close\"]),\n",
        "    ),\n",
        "    axis=1\n",
        ")\n",
        "\n",
        "# 5. Calculate the 14-day Average True Range (ATR) using a rolling mean\n",
        "atr_period = 14\n",
        "data[\"ATR\"] = data[\"TR\"].rolling(window=atr_period).mean()\n",
        "\n",
        "# 6. Print the ATR for March 6, 2024\n",
        "target_date = pd.Timestamp(\"2024-03-06\")\n",
        "if target_date in data.index:\n",
        "    atr_value = data.loc[target_date, \"ATR\"]\n",
        "    print(f\"ATR for {ticker} on {target_date.date()} is: {atr_value:.2f}\")\n",
        "else:\n",
        "    print(f\"No data available for {ticker} on {target_date.date()}.\")\n",
        "\n"
      ]
    }
  ]
}